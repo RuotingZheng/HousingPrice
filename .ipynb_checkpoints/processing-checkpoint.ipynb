{
 "cells": [
  {
   "cell_type": "markdown",
   "metadata": {},
   "source": [
    "# Housing Prices in LanZhou"
   ]
  },
  {
   "cell_type": "markdown",
   "metadata": {
    "collapsed": true
   },
   "source": [
    "### Ruoting Zheng"
   ]
  },
  {
   "cell_type": "markdown",
   "metadata": {},
   "source": [
    "Datasets provided by Qin He, Urban Planning major in KU"
   ]
  },
  {
   "cell_type": "code",
   "execution_count": 623,
   "metadata": {
    "collapsed": true
   },
   "outputs": [],
   "source": [
    "import numpy as np \n",
    "import pandas as pd \n",
    "import seaborn as sns\n",
    "import matplotlib.pyplot as plt"
   ]
  },
  {
   "cell_type": "markdown",
   "metadata": {
    "collapsed": true
   },
   "source": [
    "## 1. Load the data to Python matrices"
   ]
  },
  {
   "cell_type": "code",
   "execution_count": 624,
   "metadata": {
    "collapsed": false
   },
   "outputs": [],
   "source": [
    "# Read the first data\n",
    "df = pd.read_csv('./data/new_data.csv')"
   ]
  },
  {
   "cell_type": "code",
   "execution_count": 625,
   "metadata": {
    "collapsed": false
   },
   "outputs": [
    {
     "data": {
      "text/html": [
       "<div>\n",
       "<table border=\"1\" class=\"dataframe\">\n",
       "  <thead>\n",
       "    <tr style=\"text-align: right;\">\n",
       "      <th></th>\n",
       "      <th>出租方式</th>\n",
       "      <th>户型</th>\n",
       "      <th>建筑面积</th>\n",
       "      <th>层数</th>\n",
       "      <th>低层</th>\n",
       "      <th>中层</th>\n",
       "      <th>中高层</th>\n",
       "      <th>高层</th>\n",
       "      <th>超高层</th>\n",
       "      <th>楼</th>\n",
       "      <th>...</th>\n",
       "      <th>字段9</th>\n",
       "      <th>字段10</th>\n",
       "      <th>字段11</th>\n",
       "      <th>字段12</th>\n",
       "      <th>字段13</th>\n",
       "      <th>字段14</th>\n",
       "      <th>字段15</th>\n",
       "      <th>标题</th>\n",
       "      <th>价格</th>\n",
       "      <th>字段25</th>\n",
       "    </tr>\n",
       "  </thead>\n",
       "  <tbody>\n",
       "    <tr>\n",
       "      <th>0</th>\n",
       "      <td>整租</td>\n",
       "      <td>3室2厅2卫</td>\n",
       "      <td>160</td>\n",
       "      <td>31</td>\n",
       "      <td>0</td>\n",
       "      <td>0</td>\n",
       "      <td>0</td>\n",
       "      <td>1</td>\n",
       "      <td>0</td>\n",
       "      <td>中</td>\n",
       "      <td>...</td>\n",
       "      <td>床</td>\n",
       "      <td>电视</td>\n",
       "      <td>NaN</td>\n",
       "      <td>NaN</td>\n",
       "      <td>空调</td>\n",
       "      <td>热水器</td>\n",
       "      <td>NaN</td>\n",
       "      <td>房源编号 331363230</td>\n",
       "      <td>7000</td>\n",
       "      <td>农牧大厦\\n                            (城关区/火车站)</td>\n",
       "    </tr>\n",
       "    <tr>\n",
       "      <th>1</th>\n",
       "      <td>整租</td>\n",
       "      <td>1室1厅1卫</td>\n",
       "      <td>58</td>\n",
       "      <td>28</td>\n",
       "      <td>0</td>\n",
       "      <td>0</td>\n",
       "      <td>0</td>\n",
       "      <td>1</td>\n",
       "      <td>0</td>\n",
       "      <td>中</td>\n",
       "      <td>...</td>\n",
       "      <td>床</td>\n",
       "      <td>电视</td>\n",
       "      <td>冰箱</td>\n",
       "      <td>洗衣机</td>\n",
       "      <td>空调</td>\n",
       "      <td>热水器</td>\n",
       "      <td>暖气</td>\n",
       "      <td>房源编号 330760554</td>\n",
       "      <td>2500</td>\n",
       "      <td>森地国际\\n                            (城关区/滩尖子)</td>\n",
       "    </tr>\n",
       "  </tbody>\n",
       "</table>\n",
       "<p>2 rows × 23 columns</p>\n",
       "</div>"
      ],
      "text/plain": [
       "  出租方式      户型  建筑面积  层数  低层  中层  中高层  高层  超高层  楼  \\\n",
       "0   整租  3室2厅2卫   160  31   0   0    0   1    0  中   \n",
       "1   整租  1室1厅1卫    58  28   0   0    0   1    0  中   \n",
       "\n",
       "                      ...                      字段9 字段10 字段11 字段12 字段13 字段14  \\\n",
       "0                     ...                        床   电视  NaN  NaN   空调  热水器   \n",
       "1                     ...                        床   电视   冰箱  洗衣机   空调  热水器   \n",
       "\n",
       "  字段15              标题    价格                                         字段25  \n",
       "0  NaN  房源编号 331363230  7000  农牧大厦\\n                            (城关区/火车站)  \n",
       "1   暖气  房源编号 330760554  2500  森地国际\\n                            (城关区/滩尖子)  \n",
       "\n",
       "[2 rows x 23 columns]"
      ]
     },
     "execution_count": 625,
     "metadata": {},
     "output_type": "execute_result"
    }
   ],
   "source": [
    "df.head(2) #output some of the data"
   ]
  },
  {
   "cell_type": "markdown",
   "metadata": {},
   "source": [
    "## 2. Data shape :the number of instances and number of features"
   ]
  },
  {
   "cell_type": "code",
   "execution_count": 626,
   "metadata": {
    "collapsed": false
   },
   "outputs": [
    {
     "name": "stdout",
     "output_type": "stream",
     "text": [
      "The shape of data:\n",
      "\n"
     ]
    },
    {
     "data": {
      "text/plain": [
       "(1462, 23)"
      ]
     },
     "execution_count": 626,
     "metadata": {},
     "output_type": "execute_result"
    }
   ],
   "source": [
    "print(\"The shape of data:\\n\")\n",
    "df.shape"
   ]
  },
  {
   "cell_type": "markdown",
   "metadata": {},
   "source": [
    "## 3. Data Processing"
   ]
  },
  {
   "cell_type": "markdown",
   "metadata": {},
   "source": [
    "#### Delete the redundant coloumns"
   ]
  },
  {
   "cell_type": "code",
   "execution_count": 627,
   "metadata": {
    "collapsed": false
   },
   "outputs": [],
   "source": [
    "del df['低层']\n",
    "del df['中层']\n",
    "del df['中高层']\n",
    "del df['高层']\n",
    "del df['超高层']\n",
    "del df['标题']\n",
    "del df['地址']\n"
   ]
  },
  {
   "cell_type": "markdown",
   "metadata": {},
   "source": [
    "#### The dataset is in Chinese. Transfer the heading into English."
   ]
  },
  {
   "cell_type": "code",
   "execution_count": 628,
   "metadata": {
    "collapsed": false
   },
   "outputs": [],
   "source": [
    "df = df.rename(columns={'户型': 'HousingType','出租方式': 'RentType','建筑面积':'Area','层数':'Levels','楼':'Building','朝向':'Direction','装修':'Decoration','字段25':'Address','字段9':'Bedings','字段10':'TV','字段11':'Refrig','字段12':'Laundry','字段13':'AirCon','字段14':'WaterHeater','字段15':'Heater','价格':'Price',})"
   ]
  },
  {
   "cell_type": "code",
   "execution_count": 629,
   "metadata": {
    "collapsed": false
   },
   "outputs": [
    {
     "data": {
      "text/plain": [
       "Index(['RentType', 'HousingType', 'Area', 'Levels', 'Building', 'Direction',\n",
       "       'Decoration', 'Bedings', 'TV', 'Refrig', 'Laundry', 'AirCon',\n",
       "       'WaterHeater', 'Heater', 'Price', 'Address'],\n",
       "      dtype='object')"
      ]
     },
     "execution_count": 629,
     "metadata": {},
     "output_type": "execute_result"
    }
   ],
   "source": [
    "df.columns"
   ]
  },
  {
   "cell_type": "markdown",
   "metadata": {},
   "source": [
    "### Show Data types"
   ]
  },
  {
   "cell_type": "code",
   "execution_count": 630,
   "metadata": {
    "collapsed": false
   },
   "outputs": [
    {
     "name": "stdout",
     "output_type": "stream",
     "text": [
      "Categorical variables:\n",
      " ['RentType' 'HousingType' 'Building' 'Direction' 'Decoration' 'Bedings'\n",
      " 'TV' 'Refrig' 'Laundry' 'AirCon' 'WaterHeater' 'Heater' 'Address']\n"
     ]
    }
   ],
   "source": [
    "print(\"Categorical variables:\\n %s\"% df.select_dtypes(include = ['object']).columns.values)\n",
    "x_cla = df.select_dtypes(include = ['object'])"
   ]
  },
  {
   "cell_type": "code",
   "execution_count": 631,
   "metadata": {
    "collapsed": false
   },
   "outputs": [
    {
     "name": "stdout",
     "output_type": "stream",
     "text": [
      "Numerical features:\n",
      " ['Area' 'Levels' 'Price']\n"
     ]
    }
   ],
   "source": [
    "print(\"Numerical features:\\n %s\"%df.select_dtypes(include = ['float64','int64']).columns.values)\n",
    "x_num = df.select_dtypes(include = ['float64','int64'])"
   ]
  },
  {
   "cell_type": "code",
   "execution_count": 632,
   "metadata": {
    "collapsed": false
   },
   "outputs": [
    {
     "data": {
      "text/html": [
       "<div>\n",
       "<table border=\"1\" class=\"dataframe\">\n",
       "  <thead>\n",
       "    <tr style=\"text-align: right;\">\n",
       "      <th></th>\n",
       "      <th>Area</th>\n",
       "      <th>Levels</th>\n",
       "      <th>Price</th>\n",
       "    </tr>\n",
       "  </thead>\n",
       "  <tbody>\n",
       "    <tr>\n",
       "      <th>count</th>\n",
       "      <td>1462.000000</td>\n",
       "      <td>1462.000000</td>\n",
       "      <td>1462.000000</td>\n",
       "    </tr>\n",
       "    <tr>\n",
       "      <th>mean</th>\n",
       "      <td>93.260602</td>\n",
       "      <td>17.757182</td>\n",
       "      <td>2888.363201</td>\n",
       "    </tr>\n",
       "    <tr>\n",
       "      <th>std</th>\n",
       "      <td>43.643535</td>\n",
       "      <td>11.393791</td>\n",
       "      <td>2414.518319</td>\n",
       "    </tr>\n",
       "    <tr>\n",
       "      <th>min</th>\n",
       "      <td>10.000000</td>\n",
       "      <td>1.000000</td>\n",
       "      <td>100.000000</td>\n",
       "    </tr>\n",
       "    <tr>\n",
       "      <th>25%</th>\n",
       "      <td>65.000000</td>\n",
       "      <td>8.000000</td>\n",
       "      <td>1800.000000</td>\n",
       "    </tr>\n",
       "    <tr>\n",
       "      <th>50%</th>\n",
       "      <td>89.000000</td>\n",
       "      <td>12.000000</td>\n",
       "      <td>2450.000000</td>\n",
       "    </tr>\n",
       "    <tr>\n",
       "      <th>75%</th>\n",
       "      <td>108.000000</td>\n",
       "      <td>30.000000</td>\n",
       "      <td>3000.000000</td>\n",
       "    </tr>\n",
       "    <tr>\n",
       "      <th>max</th>\n",
       "      <td>500.000000</td>\n",
       "      <td>68.000000</td>\n",
       "      <td>30000.000000</td>\n",
       "    </tr>\n",
       "  </tbody>\n",
       "</table>\n",
       "</div>"
      ],
      "text/plain": [
       "              Area       Levels         Price\n",
       "count  1462.000000  1462.000000   1462.000000\n",
       "mean     93.260602    17.757182   2888.363201\n",
       "std      43.643535    11.393791   2414.518319\n",
       "min      10.000000     1.000000    100.000000\n",
       "25%      65.000000     8.000000   1800.000000\n",
       "50%      89.000000    12.000000   2450.000000\n",
       "75%     108.000000    30.000000   3000.000000\n",
       "max     500.000000    68.000000  30000.000000"
      ]
     },
     "execution_count": 632,
     "metadata": {},
     "output_type": "execute_result"
    }
   ],
   "source": [
    "df.describe()"
   ]
  },
  {
   "cell_type": "markdown",
   "metadata": {},
   "source": [
    "### For category types "
   ]
  },
  {
   "cell_type": "markdown",
   "metadata": {},
   "source": [
    "#### Merge the categories"
   ]
  },
  {
   "cell_type": "code",
   "execution_count": 633,
   "metadata": {
    "collapsed": false
   },
   "outputs": [
    {
     "data": {
      "text/plain": [
       "array(['中装修', '精装修', '简装修', '豪华装修', '毛坯', '不限', '中等装修', '简单装修'], dtype=object)"
      ]
     },
     "execution_count": 633,
     "metadata": {},
     "output_type": "execute_result"
    }
   ],
   "source": [
    "df.Decoration.unique()"
   ]
  },
  {
   "cell_type": "code",
   "execution_count": 634,
   "metadata": {
    "collapsed": false
   },
   "outputs": [],
   "source": [
    "mask = (df['Decoration']=='中等装修')\n",
    "df.loc[mask, 'Decoration'] = 'M'\n",
    "mask = (df['Decoration']=='中装修')\n",
    "df.loc[mask, 'Decoration'] = 'M'\n",
    "mask = (df['Decoration']=='简单装修')\n",
    "df.loc[mask, 'Decoration'] = 'L'\n",
    "mask = (df['Decoration']=='简装修')\n",
    "df.loc[mask, 'Decoration'] = 'L'\n",
    "mask = (df['Decoration']=='豪华装修')\n",
    "df.loc[mask, 'Decoration'] = 'H'\n",
    "mask = (df['Decoration']=='精装修')\n",
    "df.loc[mask, 'Decoration'] = 'H'\n",
    "mask = (df['Decoration']=='不限')\n",
    "df.loc[mask, 'Decoration'] = np.nan"
   ]
  },
  {
   "cell_type": "markdown",
   "metadata": {},
   "source": [
    "#### Seperate Housing Type into Three columns"
   ]
  },
  {
   "cell_type": "code",
   "execution_count": 635,
   "metadata": {
    "collapsed": false
   },
   "outputs": [
    {
     "data": {
      "text/html": [
       "<div>\n",
       "<table border=\"1\" class=\"dataframe\">\n",
       "  <thead>\n",
       "    <tr style=\"text-align: right;\">\n",
       "      <th></th>\n",
       "      <th>RentType</th>\n",
       "      <th>HousingType</th>\n",
       "      <th>Area</th>\n",
       "      <th>Levels</th>\n",
       "      <th>Building</th>\n",
       "      <th>Direction</th>\n",
       "      <th>Decoration</th>\n",
       "      <th>Bedings</th>\n",
       "      <th>TV</th>\n",
       "      <th>Refrig</th>\n",
       "      <th>Laundry</th>\n",
       "      <th>AirCon</th>\n",
       "      <th>WaterHeater</th>\n",
       "      <th>Heater</th>\n",
       "      <th>Price</th>\n",
       "      <th>Address</th>\n",
       "      <th>room</th>\n",
       "      <th>livingroom</th>\n",
       "      <th>bathroom</th>\n",
       "    </tr>\n",
       "  </thead>\n",
       "  <tbody>\n",
       "    <tr>\n",
       "      <th>0</th>\n",
       "      <td>整租</td>\n",
       "      <td>3室2厅2卫</td>\n",
       "      <td>160</td>\n",
       "      <td>31</td>\n",
       "      <td>中</td>\n",
       "      <td>南</td>\n",
       "      <td>M</td>\n",
       "      <td>床</td>\n",
       "      <td>电视</td>\n",
       "      <td>NaN</td>\n",
       "      <td>NaN</td>\n",
       "      <td>空调</td>\n",
       "      <td>热水器</td>\n",
       "      <td>NaN</td>\n",
       "      <td>7000</td>\n",
       "      <td>农牧大厦\\n                            (城关区/火车站)</td>\n",
       "      <td>3</td>\n",
       "      <td>2</td>\n",
       "      <td>2</td>\n",
       "    </tr>\n",
       "    <tr>\n",
       "      <th>1</th>\n",
       "      <td>整租</td>\n",
       "      <td>1室1厅1卫</td>\n",
       "      <td>58</td>\n",
       "      <td>28</td>\n",
       "      <td>中</td>\n",
       "      <td>北</td>\n",
       "      <td>H</td>\n",
       "      <td>床</td>\n",
       "      <td>电视</td>\n",
       "      <td>冰箱</td>\n",
       "      <td>洗衣机</td>\n",
       "      <td>空调</td>\n",
       "      <td>热水器</td>\n",
       "      <td>暖气</td>\n",
       "      <td>2500</td>\n",
       "      <td>森地国际\\n                            (城关区/滩尖子)</td>\n",
       "      <td>1</td>\n",
       "      <td>1</td>\n",
       "      <td>1</td>\n",
       "    </tr>\n",
       "  </tbody>\n",
       "</table>\n",
       "</div>"
      ],
      "text/plain": [
       "  RentType HousingType  Area  Levels Building Direction Decoration Bedings  \\\n",
       "0       整租      3室2厅2卫   160      31        中         南          M       床   \n",
       "1       整租      1室1厅1卫    58      28        中         北          H       床   \n",
       "\n",
       "   TV Refrig Laundry AirCon WaterHeater Heater  Price  \\\n",
       "0  电视    NaN     NaN     空调         热水器    NaN   7000   \n",
       "1  电视     冰箱     洗衣机     空调         热水器     暖气   2500   \n",
       "\n",
       "                                       Address  room  livingroom  bathroom  \n",
       "0  农牧大厦\\n                            (城关区/火车站)     3           2         2  \n",
       "1  森地国际\\n                            (城关区/滩尖子)     1           1         1  "
      ]
     },
     "execution_count": 635,
     "metadata": {},
     "output_type": "execute_result"
    }
   ],
   "source": [
    "df[['room', 'livingroom', 'bathroom']] = df['HousingType'].str.extract('(\\d+)室(\\d+)厅(\\d+)卫', expand=False).astype('int64')\n",
    "# df[['room', 'livingroom', 'bathroom']] = df[['room', 'livingroom', 'bathroom']].astype('int64')\n",
    "df.head(2)"
   ]
  },
  {
   "cell_type": "code",
   "execution_count": 636,
   "metadata": {
    "collapsed": false
   },
   "outputs": [
    {
     "data": {
      "text/plain": [
       "array([3, 1, 2, 4, 5, 6, 9], dtype=int64)"
      ]
     },
     "execution_count": 636,
     "metadata": {},
     "output_type": "execute_result"
    }
   ],
   "source": [
    "df['room'].unique()"
   ]
  },
  {
   "cell_type": "code",
   "execution_count": 637,
   "metadata": {
    "collapsed": true
   },
   "outputs": [],
   "source": [
    "del(df['HousingType'])"
   ]
  },
  {
   "cell_type": "markdown",
   "metadata": {},
   "source": [
    "#### Deal with Address (into categories)"
   ]
  },
  {
   "cell_type": "code",
   "execution_count": 638,
   "metadata": {
    "collapsed": false
   },
   "outputs": [],
   "source": [
    "# Did not work yet. Debugging\n",
    "# df[['location1', 'location2']] = df['Address'].str.extract('.+\\n\\((\\S+)/(\\S+)\\)', expand=False)\n",
    "\n",
    "# This works\n",
    "df[['location1', 'location2']] = df['Address'].str.extract('\\((\\S+)/(\\S+)\\)', expand=False)"
   ]
  },
  {
   "cell_type": "code",
   "execution_count": 639,
   "metadata": {
    "collapsed": false
   },
   "outputs": [
    {
     "data": {
      "text/html": [
       "<div>\n",
       "<table border=\"1\" class=\"dataframe\">\n",
       "  <thead>\n",
       "    <tr style=\"text-align: right;\">\n",
       "      <th></th>\n",
       "      <th>RentType</th>\n",
       "      <th>Area</th>\n",
       "      <th>Levels</th>\n",
       "      <th>Building</th>\n",
       "      <th>Direction</th>\n",
       "      <th>Decoration</th>\n",
       "      <th>Bedings</th>\n",
       "      <th>TV</th>\n",
       "      <th>Refrig</th>\n",
       "      <th>Laundry</th>\n",
       "      <th>AirCon</th>\n",
       "      <th>WaterHeater</th>\n",
       "      <th>Heater</th>\n",
       "      <th>Price</th>\n",
       "      <th>Address</th>\n",
       "      <th>room</th>\n",
       "      <th>livingroom</th>\n",
       "      <th>bathroom</th>\n",
       "      <th>location1</th>\n",
       "      <th>location2</th>\n",
       "    </tr>\n",
       "  </thead>\n",
       "  <tbody>\n",
       "    <tr>\n",
       "      <th>0</th>\n",
       "      <td>整租</td>\n",
       "      <td>160</td>\n",
       "      <td>31</td>\n",
       "      <td>中</td>\n",
       "      <td>南</td>\n",
       "      <td>M</td>\n",
       "      <td>床</td>\n",
       "      <td>电视</td>\n",
       "      <td>NaN</td>\n",
       "      <td>NaN</td>\n",
       "      <td>空调</td>\n",
       "      <td>热水器</td>\n",
       "      <td>NaN</td>\n",
       "      <td>7000</td>\n",
       "      <td>农牧大厦\\n                            (城关区/火车站)</td>\n",
       "      <td>3</td>\n",
       "      <td>2</td>\n",
       "      <td>2</td>\n",
       "      <td>城关区</td>\n",
       "      <td>火车站</td>\n",
       "    </tr>\n",
       "  </tbody>\n",
       "</table>\n",
       "</div>"
      ],
      "text/plain": [
       "  RentType  Area  Levels Building Direction Decoration Bedings  TV Refrig  \\\n",
       "0       整租   160      31        中         南          M       床  电视    NaN   \n",
       "\n",
       "  Laundry AirCon WaterHeater Heater  Price  \\\n",
       "0     NaN     空调         热水器    NaN   7000   \n",
       "\n",
       "                                       Address  room  livingroom  bathroom  \\\n",
       "0  农牧大厦\\n                            (城关区/火车站)     3           2         2   \n",
       "\n",
       "  location1 location2  \n",
       "0       城关区       火车站  "
      ]
     },
     "execution_count": 639,
     "metadata": {},
     "output_type": "execute_result"
    }
   ],
   "source": [
    "df.head(1)"
   ]
  },
  {
   "cell_type": "code",
   "execution_count": 640,
   "metadata": {
    "collapsed": true
   },
   "outputs": [],
   "source": [
    "del(df['Address'])"
   ]
  },
  {
   "cell_type": "markdown",
   "metadata": {},
   "source": [
    "#### Some of the category type clolumns can transfer to boolean Series\n",
    "First, translate NAN into values that make sence (fill in values). Second,  transfer to boolean Series."
   ]
  },
  {
   "cell_type": "code",
   "execution_count": 641,
   "metadata": {
    "collapsed": false
   },
   "outputs": [],
   "source": [
    "df.loc[:, \"RentType\"] = df.loc[:, \"RentType\"].fillna(\"None\")"
   ]
  },
  {
   "cell_type": "code",
   "execution_count": 642,
   "metadata": {
    "collapsed": false
   },
   "outputs": [
    {
     "data": {
      "text/plain": [
       "array([True, False], dtype=object)"
      ]
     },
     "execution_count": 642,
     "metadata": {},
     "output_type": "execute_result"
    }
   ],
   "source": [
    "df['RentType'] = df['RentType'].str.contains('整租')\n",
    "df['RentType'].unique()"
   ]
  },
  {
   "cell_type": "code",
   "execution_count": 643,
   "metadata": {
    "collapsed": false
   },
   "outputs": [],
   "source": [
    "# Others\n",
    "df.loc[:, \"Refrig\"] = df.loc[:, \"Refrig\"].fillna(\"None\")\n",
    "df['Refrig'] = df['Refrig'].str.contains('冰箱')\n",
    "\n",
    "df.loc[:, \"Laundry\"] = df.loc[:, \"Laundry\"].fillna(\"None\")\n",
    "df['Laundry'] = df['Laundry'].str.contains('洗衣机')\n",
    "\n",
    "df.loc[:, \"AirCon\"] = df.loc[:, \"AirCon\"].fillna(\"None\")\n",
    "df['AirCon'] = df['AirCon'].str.contains('空调')\n",
    "\n",
    "df.loc[:, \"Heater\"] = df.loc[:, \"Heater\"].fillna(\"None\")\n",
    "df['Heater'] = df['Heater'].str.contains('暖气')\n",
    "\n",
    "df.loc[:, \"Bedings\"] = df.loc[:, \"Bedings\"].fillna(\"None\")\n",
    "df['Bedings'] = df['Bedings'].str.contains('床')\n",
    "\n",
    "df.loc[:, \"TV\"] = df.loc[:, \"TV\"].fillna(\"None\")\n",
    "df['TV'] = df['TV'].str.contains('电视')\n",
    "\n",
    "df.loc[:, \"WaterHeater\"] = df.loc[:, \"WaterHeater\"].fillna(\"None\")\n",
    "df['WaterHeater'] = df['WaterHeater'].str.contains('热水器')\n",
    "\n",
    "\n",
    "# mask = (df['Laundry']=='洗衣机')\n",
    "# df.loc[mask, 'Laundry'] = 1\n",
    "# mask = (df['Laundry']!=1)\n",
    "# df.loc[mask, 'Laundry'] = 0\n",
    "\n",
    "# mask = (df['AirCon']=='空调')\n",
    "# df.loc[mask, 'AirCon'] = 1\n",
    "# mask = (df['AirCon']!=1)\n",
    "# df.loc[mask, 'AirCon'] = 0\n",
    "\n",
    "# mask = (df['Heater']=='暖气')\n",
    "# df.loc[mask, 'Heater'] = 1\n",
    "# mask = (df['Heater']!=1)\n",
    "# df.loc[mask, 'Heater'] = 0\n",
    "\n",
    "# mask = (df['Bedings']=='床')\n",
    "# df.loc[mask, 'Bedings'] = 1\n",
    "# mask = (df['Bedings']!=1)\n",
    "# df.loc[mask, 'Bedings'] = 0\n",
    "\n",
    "# mask = (df['TV']=='电视')\n",
    "# df.loc[mask, 'TV'] = 1\n",
    "# mask = (df['TV']!=1)\n",
    "# df.loc[mask, 'TV'] = 0\n",
    "\n",
    "# mask = (df['WaterHeater']=='热水器')\n",
    "# df.loc[mask, 'WaterHeater'] = 1\n",
    "# mask = (df['WaterHeater']!=1)\n",
    "# df.loc[mask, 'WaterHeater'] = 0"
   ]
  },
  {
   "cell_type": "markdown",
   "metadata": {},
   "source": [
    "#### Other translations"
   ]
  },
  {
   "cell_type": "code",
   "execution_count": 644,
   "metadata": {
    "collapsed": false
   },
   "outputs": [
    {
     "data": {
      "text/plain": [
       "array(['中', '高', '低'], dtype=object)"
      ]
     },
     "execution_count": 644,
     "metadata": {},
     "output_type": "execute_result"
    }
   ],
   "source": [
    "df.Building.unique()"
   ]
  },
  {
   "cell_type": "code",
   "execution_count": 645,
   "metadata": {
    "collapsed": false,
    "scrolled": true
   },
   "outputs": [],
   "source": [
    "# WithCopyWarning: \n",
    "# A value is trying to be set on a copy of a slice from a DataFrame.\n",
    "# Try using .loc[row_indexer,col_indexer] = value instead\n",
    "# df[df.Building=='低'].Building = 'low'\n",
    "\n",
    "# This is acceptable\n",
    "mask = (df['Building']=='低')\n",
    "# .loc[] \n",
    "df.loc[mask, 'Building'] = 'L'\n",
    "\n",
    "mask = (df['Building']=='中')\n",
    "df.loc[mask, 'Building'] = 'M'\n",
    "mask = (df['Building']=='高')\n",
    "df.loc[mask, 'Building'] = 'H'"
   ]
  },
  {
   "cell_type": "code",
   "execution_count": 646,
   "metadata": {
    "collapsed": false
   },
   "outputs": [
    {
     "data": {
      "text/plain": [
       "array(['南', '北', '南北', '暂无', '西', '东西', '东', '东南', '东北', '西北', '西南', '不限'], dtype=object)"
      ]
     },
     "execution_count": 646,
     "metadata": {},
     "output_type": "execute_result"
    }
   ],
   "source": [
    "df['Direction'].unique()"
   ]
  },
  {
   "cell_type": "code",
   "execution_count": 647,
   "metadata": {
    "collapsed": false
   },
   "outputs": [],
   "source": [
    "# for direction\n",
    "mask = (df['Direction']=='暂无')\n",
    "df.loc[mask, 'Direction'] = 'None'\n",
    "mask = (df['Direction']=='不限')\n",
    "df.loc[mask, 'Direction'] = 'None'\n",
    "\n",
    "mask = (df['Direction']=='东')\n",
    "df.loc[mask, 'Direction'] = 'E'\n",
    "mask = (df['Direction']=='南')\n",
    "df.loc[mask, 'Direction'] = 'S'\n",
    "mask = (df['Direction']=='西')\n",
    "df.loc[mask, 'Direction'] = 'W'\n",
    "mask = (df['Direction']=='北')\n",
    "df.loc[mask, 'Direction'] = 'N'\n",
    "\n",
    "mask = (df['Direction']=='南北')\n",
    "df.loc[mask, 'Direction'] = 'SN'\n",
    "mask = (df['Direction']=='东西')\n",
    "df.loc[mask, 'Direction'] = 'EW'\n",
    "mask = (df['Direction']=='东南')\n",
    "df.loc[mask, 'Direction'] = 'SE'\n",
    "mask = (df['Direction']=='东北')\n",
    "df.loc[mask, 'Direction'] = 'NE'\n",
    "mask = (df['Direction']=='西南')\n",
    "df.loc[mask, 'Direction'] = 'SW'\n",
    "mask = (df['Direction']=='西北')\n",
    "df.loc[mask, 'Direction'] = 'NW'\n"
   ]
  },
  {
   "cell_type": "markdown",
   "metadata": {},
   "source": [
    "### Finish Processing"
   ]
  },
  {
   "cell_type": "code",
   "execution_count": 648,
   "metadata": {
    "collapsed": false
   },
   "outputs": [
    {
     "data": {
      "text/html": [
       "<div>\n",
       "<table border=\"1\" class=\"dataframe\">\n",
       "  <thead>\n",
       "    <tr style=\"text-align: right;\">\n",
       "      <th></th>\n",
       "      <th>RentType</th>\n",
       "      <th>Area</th>\n",
       "      <th>Levels</th>\n",
       "      <th>Building</th>\n",
       "      <th>Direction</th>\n",
       "      <th>Decoration</th>\n",
       "      <th>Bedings</th>\n",
       "      <th>TV</th>\n",
       "      <th>Refrig</th>\n",
       "      <th>Laundry</th>\n",
       "      <th>AirCon</th>\n",
       "      <th>WaterHeater</th>\n",
       "      <th>Heater</th>\n",
       "      <th>Price</th>\n",
       "      <th>room</th>\n",
       "      <th>livingroom</th>\n",
       "      <th>bathroom</th>\n",
       "      <th>location1</th>\n",
       "      <th>location2</th>\n",
       "    </tr>\n",
       "  </thead>\n",
       "  <tbody>\n",
       "    <tr>\n",
       "      <th>0</th>\n",
       "      <td>True</td>\n",
       "      <td>160</td>\n",
       "      <td>31</td>\n",
       "      <td>M</td>\n",
       "      <td>S</td>\n",
       "      <td>M</td>\n",
       "      <td>True</td>\n",
       "      <td>True</td>\n",
       "      <td>False</td>\n",
       "      <td>False</td>\n",
       "      <td>True</td>\n",
       "      <td>True</td>\n",
       "      <td>False</td>\n",
       "      <td>7000</td>\n",
       "      <td>3</td>\n",
       "      <td>2</td>\n",
       "      <td>2</td>\n",
       "      <td>城关区</td>\n",
       "      <td>火车站</td>\n",
       "    </tr>\n",
       "    <tr>\n",
       "      <th>1</th>\n",
       "      <td>True</td>\n",
       "      <td>58</td>\n",
       "      <td>28</td>\n",
       "      <td>M</td>\n",
       "      <td>N</td>\n",
       "      <td>H</td>\n",
       "      <td>True</td>\n",
       "      <td>True</td>\n",
       "      <td>True</td>\n",
       "      <td>True</td>\n",
       "      <td>True</td>\n",
       "      <td>True</td>\n",
       "      <td>True</td>\n",
       "      <td>2500</td>\n",
       "      <td>1</td>\n",
       "      <td>1</td>\n",
       "      <td>1</td>\n",
       "      <td>城关区</td>\n",
       "      <td>滩尖子</td>\n",
       "    </tr>\n",
       "    <tr>\n",
       "      <th>2</th>\n",
       "      <td>True</td>\n",
       "      <td>43</td>\n",
       "      <td>33</td>\n",
       "      <td>H</td>\n",
       "      <td>N</td>\n",
       "      <td>H</td>\n",
       "      <td>False</td>\n",
       "      <td>True</td>\n",
       "      <td>False</td>\n",
       "      <td>False</td>\n",
       "      <td>False</td>\n",
       "      <td>True</td>\n",
       "      <td>True</td>\n",
       "      <td>2600</td>\n",
       "      <td>1</td>\n",
       "      <td>0</td>\n",
       "      <td>1</td>\n",
       "      <td>城关区</td>\n",
       "      <td>火车站</td>\n",
       "    </tr>\n",
       "    <tr>\n",
       "      <th>3</th>\n",
       "      <td>True</td>\n",
       "      <td>72</td>\n",
       "      <td>32</td>\n",
       "      <td>M</td>\n",
       "      <td>S</td>\n",
       "      <td>M</td>\n",
       "      <td>True</td>\n",
       "      <td>True</td>\n",
       "      <td>False</td>\n",
       "      <td>False</td>\n",
       "      <td>True</td>\n",
       "      <td>True</td>\n",
       "      <td>False</td>\n",
       "      <td>4100</td>\n",
       "      <td>2</td>\n",
       "      <td>1</td>\n",
       "      <td>1</td>\n",
       "      <td>城关区</td>\n",
       "      <td>东方红广场</td>\n",
       "    </tr>\n",
       "    <tr>\n",
       "      <th>4</th>\n",
       "      <td>True</td>\n",
       "      <td>68</td>\n",
       "      <td>33</td>\n",
       "      <td>L</td>\n",
       "      <td>S</td>\n",
       "      <td>H</td>\n",
       "      <td>True</td>\n",
       "      <td>True</td>\n",
       "      <td>True</td>\n",
       "      <td>True</td>\n",
       "      <td>False</td>\n",
       "      <td>True</td>\n",
       "      <td>True</td>\n",
       "      <td>2400</td>\n",
       "      <td>2</td>\n",
       "      <td>1</td>\n",
       "      <td>1</td>\n",
       "      <td>城关区</td>\n",
       "      <td>火车站</td>\n",
       "    </tr>\n",
       "  </tbody>\n",
       "</table>\n",
       "</div>"
      ],
      "text/plain": [
       "  RentType  Area  Levels Building Direction Decoration Bedings    TV Refrig  \\\n",
       "0     True   160      31        M         S          M    True  True  False   \n",
       "1     True    58      28        M         N          H    True  True   True   \n",
       "2     True    43      33        H         N          H   False  True  False   \n",
       "3     True    72      32        M         S          M    True  True  False   \n",
       "4     True    68      33        L         S          H    True  True   True   \n",
       "\n",
       "  Laundry AirCon WaterHeater Heater  Price  room  livingroom  bathroom  \\\n",
       "0   False   True        True  False   7000     3           2         2   \n",
       "1    True   True        True   True   2500     1           1         1   \n",
       "2   False  False        True   True   2600     1           0         1   \n",
       "3   False   True        True  False   4100     2           1         1   \n",
       "4    True  False        True   True   2400     2           1         1   \n",
       "\n",
       "  location1 location2  \n",
       "0       城关区       火车站  \n",
       "1       城关区       滩尖子  \n",
       "2       城关区       火车站  \n",
       "3       城关区     东方红广场  \n",
       "4       城关区       火车站  "
      ]
     },
     "execution_count": 648,
     "metadata": {},
     "output_type": "execute_result"
    }
   ],
   "source": [
    "df.head(5) #output some of the data"
   ]
  },
  {
   "cell_type": "markdown",
   "metadata": {},
   "source": [
    "### Show: Target - Rent Price"
   ]
  },
  {
   "cell_type": "code",
   "execution_count": 649,
   "metadata": {
    "collapsed": true
   },
   "outputs": [],
   "source": [
    "y = df.Price"
   ]
  },
  {
   "cell_type": "code",
   "execution_count": 650,
   "metadata": {
    "collapsed": false
   },
   "outputs": [
    {
     "data": {
      "image/png": "[encoded data removed]",
      "text/plain": [
       "<matplotlib.figure.Figure at 0x9462bd0>"
      ]
     },
     "metadata": {},
     "output_type": "display_data"
    }
   ],
   "source": [
    "# df.Price[:5]\n",
    "plt.hist(y, bins = 'auto')\n",
    "plt.grid(True)\n",
    "plt.show()"
   ]
  },
  {
   "cell_type": "code",
   "execution_count": 651,
   "metadata": {
    "collapsed": false
   },
   "outputs": [
    {
     "name": "stdout",
     "output_type": "stream",
     "text": [
      "The mean of Renting Price is: 2888.363201\n"
     ]
    }
   ],
   "source": [
    "print(\"The mean of Renting Price is: %f\" %np.mean(df.Price))"
   ]
  },
  {
   "cell_type": "code",
   "execution_count": 652,
   "metadata": {
    "collapsed": false
   },
   "outputs": [
    {
     "name": "stdout",
     "output_type": "stream",
     "text": [
      "The variance of Renting Price is: 5825911.095855\n"
     ]
    }
   ],
   "source": [
    "print(\"The variance of Renting Price is: %f\" %np.var(df.Price))"
   ]
  },
  {
   "cell_type": "code",
   "execution_count": 653,
   "metadata": {
    "collapsed": false
   },
   "outputs": [
    {
     "data": {
      "text/plain": [
       "count     1462.000000\n",
       "mean      2888.363201\n",
       "std       2414.518319\n",
       "min        100.000000\n",
       "25%       1800.000000\n",
       "50%       2450.000000\n",
       "75%       3000.000000\n",
       "max      30000.000000\n",
       "Name: Price, dtype: float64"
      ]
     },
     "execution_count": 653,
     "metadata": {},
     "output_type": "execute_result"
    }
   ],
   "source": [
    "df.Price.describe()"
   ]
  },
  {
   "cell_type": "code",
   "execution_count": 654,
   "metadata": {
    "collapsed": false
   },
   "outputs": [
    {
     "data": {
      "image/png": "[encoded data removed]",
      "text/plain": [
       "<matplotlib.figure.Figure at 0xf5b910>"
      ]
     },
     "metadata": {},
     "output_type": "display_data"
    }
   ],
   "source": [
    "# use basic plot\n",
    "plt.boxplot(df.Price)\n",
    "plt.grid()\n",
    "plt.show()"
   ]
  },
  {
   "cell_type": "code",
   "execution_count": 655,
   "metadata": {
    "collapsed": true
   },
   "outputs": [],
   "source": [
    "correlations = df.corr()\n",
    "correction=abs(correlations)"
   ]
  },
  {
   "cell_type": "code",
   "execution_count": 656,
   "metadata": {
    "collapsed": true
   },
   "outputs": [],
   "source": [
    "fig = plt.figure() "
   ]
  },
  {
   "cell_type": "code",
   "execution_count": 657,
   "metadata": {
    "collapsed": false
   },
   "outputs": [
    {
     "data": {
      "image/png": "[encoded data removed]",
      "text/plain": [
       "<matplotlib.figure.Figure at 0x94e40d0>"
      ]
     },
     "metadata": {},
     "output_type": "display_data"
    }
   ],
   "source": [
    "ax=fig.add_subplot(figsize=(20,20))\n",
    "ax=sns.heatmap(correction)\n",
    "plt.show()  "
   ]
  },
  {
   "cell_type": "code",
   "execution_count": null,
   "metadata": {
    "collapsed": true
   },
   "outputs": [],
   "source": []
  }
 ],
 "metadata": {
  "kernelspec": {
   "display_name": "Python 3",
   "language": "python",
   "name": "python3"
  },
  "language_info": {
   "codemirror_mode": {
    "name": "ipython",
    "version": 3
   },
   "file_extension": ".py",
   "mimetype": "text/x-python",
   "name": "python",
   "nbconvert_exporter": "python",
   "pygments_lexer": "ipython3",
   "version": "3.5.2"
  }
 },
 "nbformat": 4,
 "nbformat_minor": 1
}
